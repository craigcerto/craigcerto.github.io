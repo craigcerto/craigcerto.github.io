{
 "cells": [
  {
   "cell_type": "markdown",
   "metadata": {},
   "source": [
    "<h2><center>Brazilian Birdwatching and Brazil's Amazon Deforestation</center></h2>"
   ]
  },
  {
   "cell_type": "markdown",
   "metadata": {},
   "source": [
    "<h3><center>Craig Certo</center></h3>"
   ]
  },
  {
   "cell_type": "markdown",
   "metadata": {},
   "source": [
    "<img src = \"Amazon_Rainforest_birds.jpg\">"
   ]
  },
  {
   "cell_type": "markdown",
   "metadata": {},
   "source": [
    "### Introduction\n",
    "\n",
    "#### The Amazon Rainforest\n",
    "\n",
    "The Amazon Rainforest is the world's largest rainforest and river basin on the planet. The Amazon spans 670 million hectares, stores 90-140 billion metric tons of carbon, and supports 34 million people. It has been estimated that the Amazon contains 10% of known species on Earth, over 1300 of which species are birds. The birds in the Amazon account for one third of all bird species in the world. Since birds primarily reside in the treetops, they are highly threatened by deforestation. Birds may discover that the rainforest they flew to last year is seriously damaged or no longer exists. \n",
    "\n",
    "Learn more at: https://www.britannica.com/place/Amazon-Rainforest\n",
    "\n",
    "\n",
    "#### Deforestation in the Amazon\n",
    "\n",
    "Unfortunately, the Amazon is facing a threat due to unsustainable economic development and over 20% of the Amazon biome has been lost. The Amazon is the biggest deforestation front in the world and the WWF estimates that 27% of the Amazon will be without trees by 2030 if the current rate of deforestation continues. \n",
    "\n",
    "If you would like to learn more about deforestation in the Amazon, please pursue information on the WWF webpage: (https://wwf.panda.org/discover/our_focus/forests_practice/deforestation_fronts2/deforestation_in_the_amazon/)\n",
    "\n",
    "#### Bird Watchers in Brazil\n",
    "\n",
    "As the Brazilian Amazon hosts an incredible variety of bird species, there are thousands of people who have a passion for these birds and record their observations to share them with the bird watching community. Wikiaves.com is a website and forum for bird watchers in Brazil to post their pictures and observations of birds to have them identified and seen by others. Wikiaves has become a large repository for bird watchers and currently has 36,549 observers, 3,420,606 records, and has identified 1891 species. \n",
    "\n",
    "Please visit their website to see fascinating recent images and descriptions of unique birds: (https://www.wikiaves.com).\n"
   ]
  },
  {
   "cell_type": "markdown",
   "metadata": {},
   "source": [
    "#### Data Science to Recognize Trends\n",
    "\n",
    "In this tutorial, I will be utilizing the Data Science lifecycle in an effort to determine if there is an association between the deforestation in the Brazilian Amazon Rainforest and bird watchers in Brazil. Using the activity and records from the Wikaves repository, as well as information about yearly deforestation in the Brazilian Amazon, I will utilize python's useful libraries and data science techniques to discover trends in the data, present interesting patterns, and possibly discover correlations between these two events. In the process, I will go through each step of the data science lifecycle to reach my final conclusions."
   ]
  },
  {
   "cell_type": "markdown",
   "metadata": {},
   "source": [
    "### Data Collection\n",
    "\n",
    "The first step in the Data Science lifecycle is data collection. This is where we will take our data from external sources and import it into our project, either by scraping it from a website or by downloading the dataset onto our personal machine.\n",
    "\n",
    "For the Wikiaves repository, I am using a Kaggle dataset named \"Brazilian Bird Observation Metadata from Wikiaves\" which is a dataset scraped from Wikiaves kindly made available by Danilo Lessa Bernardineli. This dataset contains about 3 million observations and 17 attributes, of which I will be using only a few. It is available for download here: (https://www.kaggle.com/danlessa/brazilian-bird-observation-metadata-from-wikiaves)\n",
    "\n",
    "Data regarding Amazon deforestation will be scraped from Mongabay.com, a webpage dedicated to rainforests and useful information for the public regarding the Amazon. The data is updated monthly, contains and is supplied by Rhett A. Butler. To learn more about deforestation figures I will be using in this tutorial, the data is available here: (https://rainforests.mongabay.com/amazon/deforestation_calculations.html) "
   ]
  },
  {
   "cell_type": "markdown",
   "metadata": {},
   "source": [
    "#### Scraping Data\n",
    "\n",
    "I first must download and import the HTMLTableParser, which will help me in scraping the data from Mongabay.com"
   ]
  },
  {
   "cell_type": "code",
   "execution_count": 1,
   "metadata": {},
   "outputs": [
    {
     "name": "stdout",
     "output_type": "stream",
     "text": [
      "Requirement already satisfied: html-table-parser-python3 in /opt/conda/lib/python3.8/site-packages (0.1.5)\n",
      "Note: you may need to restart the kernel to use updated packages.\n"
     ]
    }
   ],
   "source": [
    "pip install html-table-parser-python3"
   ]
  },
  {
   "cell_type": "markdown",
   "metadata": {},
   "source": [
    "Throughout this tutorial I will be using Pandas for storing and manipulating my data. Find out more about Pandas here: https://pandas.pydata.org/"
   ]
  },
  {
   "cell_type": "code",
   "execution_count": 2,
   "metadata": {},
   "outputs": [],
   "source": [
    "import urllib.request\n",
    "from html_table_parser import HTMLTableParser\n",
    "import pandas as pd"
   ]
  },
  {
   "cell_type": "markdown",
   "metadata": {},
   "source": [
    "\n",
    "\n",
    "Using the HTMLTable Parser, I read the contents of the webpage and import it into a Pandas Dataframe called \"forest\". I print the first 5 rows of the table to better understand the columns and attributes for each observation."
   ]
  },
  {
   "cell_type": "code",
   "execution_count": 3,
   "metadata": {},
   "outputs": [
    {
     "data": {
      "text/html": [
       "<div>\n",
       "<style scoped>\n",
       "    .dataframe tbody tr th:only-of-type {\n",
       "        vertical-align: middle;\n",
       "    }\n",
       "\n",
       "    .dataframe tbody tr th {\n",
       "        vertical-align: top;\n",
       "    }\n",
       "\n",
       "    .dataframe thead th {\n",
       "        text-align: right;\n",
       "    }\n",
       "</style>\n",
       "<table border=\"1\" class=\"dataframe\">\n",
       "  <thead>\n",
       "    <tr style=\"text-align: right;\">\n",
       "      <th></th>\n",
       "      <th>0</th>\n",
       "      <th>1</th>\n",
       "      <th>2</th>\n",
       "      <th>3</th>\n",
       "      <th>4</th>\n",
       "      <th>5</th>\n",
       "      <th>6</th>\n",
       "    </tr>\n",
       "  </thead>\n",
       "  <tbody>\n",
       "    <tr>\n",
       "      <th>0</th>\n",
       "      <td></td>\n",
       "      <td>Period</td>\n",
       "      <td>Estimated Natural Forest Cover</td>\n",
       "      <td>Deforestation (INPE)</td>\n",
       "      <td>Natural forest cover change</td>\n",
       "      <td>Forest cover as % of pre-1970 cover</td>\n",
       "      <td>Total forest loss since 1970</td>\n",
       "    </tr>\n",
       "    <tr>\n",
       "      <th>1</th>\n",
       "      <td></td>\n",
       "      <td>pre-1970</td>\n",
       "      <td>4,100,000</td>\n",
       "      <td></td>\n",
       "      <td></td>\n",
       "      <td></td>\n",
       "      <td></td>\n",
       "    </tr>\n",
       "    <tr>\n",
       "      <th>2</th>\n",
       "      <td></td>\n",
       "      <td>1970</td>\n",
       "      <td>4,001,600</td>\n",
       "      <td></td>\n",
       "      <td></td>\n",
       "      <td></td>\n",
       "      <td></td>\n",
       "    </tr>\n",
       "    <tr>\n",
       "      <th>3</th>\n",
       "      <td></td>\n",
       "      <td>1977</td>\n",
       "      <td>3,955,870</td>\n",
       "      <td></td>\n",
       "      <td></td>\n",
       "      <td></td>\n",
       "      <td></td>\n",
       "    </tr>\n",
       "    <tr>\n",
       "      <th>4</th>\n",
       "      <td></td>\n",
       "      <td>1985</td>\n",
       "      <td>3,864,945</td>\n",
       "      <td>21,050</td>\n",
       "      <td></td>\n",
       "      <td></td>\n",
       "      <td></td>\n",
       "    </tr>\n",
       "  </tbody>\n",
       "</table>\n",
       "</div>"
      ],
      "text/plain": [
       "  0         1                               2                     3  \\\n",
       "0      Period  Estimated Natural Forest Cover  Deforestation (INPE)   \n",
       "1    pre-1970                       4,100,000                         \n",
       "2        1970                       4,001,600                         \n",
       "3        1977                       3,955,870                         \n",
       "4        1985                       3,864,945                21,050   \n",
       "\n",
       "                             4                                    5  \\\n",
       "0  Natural forest cover change  Forest cover as % of pre-1970 cover   \n",
       "1                                                                     \n",
       "2                                                                     \n",
       "3                                                                     \n",
       "4                                                                     \n",
       "\n",
       "                              6  \n",
       "0  Total forest loss since 1970  \n",
       "1                                \n",
       "2                                \n",
       "3                                \n",
       "4                                "
      ]
     },
     "execution_count": 3,
     "metadata": {},
     "output_type": "execute_result"
    }
   ],
   "source": [
    "# Data Collection\n",
    "def url_get_contents(url): \n",
    "  \n",
    "    # Send a request to the webpage\n",
    "    req = urllib.request.Request(url=url,  headers={'User-Agent': 'Mozilla/5.0'}) \n",
    "    web = urllib.request.urlopen(req) \n",
    "  \n",
    "    # Read the contents of the webpage\n",
    "    return web.read() \n",
    "  \n",
    "# Pass our URL into the url_get_contents function \n",
    "page = url_get_contents('https://rainforests.mongabay.com/amazon/deforestation_calculations.html').decode('utf-8') \n",
    "  \n",
    "# Defining the HTMLTableParser object \n",
    "html = HTMLTableParser() \n",
    "  \n",
    "# Feeding the page contents into the HTMLTableParser\n",
    "html.feed(page) \n",
    "\n",
    "# Convert the table contents into a DataFrame\n",
    "forest = pd.DataFrame(html.tables[0])\n",
    "forest.head()"
   ]
  },
  {
   "cell_type": "markdown",
   "metadata": {},
   "source": [
    "#### Importing Data\n",
    "\n",
    "After scraping the deforestation data, I will now import the Wikiaves.com dataset.\n",
    "\n",
    "As I have already downloaded the Wikiaves dataset, I will simply use Pandas read_csv feature to import the data into my datatable called \"bird_observations\". I will print the datatable to further understand it's attributes as well."
   ]
  },
  {
   "cell_type": "code",
   "execution_count": 4,
   "metadata": {},
   "outputs": [
    {
     "data": {
      "text/html": [
       "<div>\n",
       "<style scoped>\n",
       "    .dataframe tbody tr th:only-of-type {\n",
       "        vertical-align: middle;\n",
       "    }\n",
       "\n",
       "    .dataframe tbody tr th {\n",
       "        vertical-align: top;\n",
       "    }\n",
       "\n",
       "    .dataframe thead th {\n",
       "        text-align: right;\n",
       "    }\n",
       "</style>\n",
       "<table border=\"1\" class=\"dataframe\">\n",
       "  <thead>\n",
       "    <tr style=\"text-align: right;\">\n",
       "      <th></th>\n",
       "      <th>Unnamed: 0</th>\n",
       "      <th>author_id</th>\n",
       "      <th>registry_id</th>\n",
       "      <th>comment_count</th>\n",
       "      <th>registry_date</th>\n",
       "      <th>is_large</th>\n",
       "      <th>location_id</th>\n",
       "      <th>is_flagged</th>\n",
       "      <th>like_count</th>\n",
       "      <th>registry_link</th>\n",
       "      <th>location_name</th>\n",
       "      <th>views_count</th>\n",
       "      <th>home_location_id</th>\n",
       "      <th>species_id</th>\n",
       "      <th>scientific_species_name</th>\n",
       "      <th>popular_species_name</th>\n",
       "      <th>species_wiki_slug</th>\n",
       "    </tr>\n",
       "  </thead>\n",
       "  <tbody>\n",
       "    <tr>\n",
       "      <th>0</th>\n",
       "      <td>0</td>\n",
       "      <td>1.0</td>\n",
       "      <td>173.0</td>\n",
       "      <td>0.0</td>\n",
       "      <td>2008-02-03</td>\n",
       "      <td>0.0</td>\n",
       "      <td>3202801</td>\n",
       "      <td>0.0</td>\n",
       "      <td>2.0</td>\n",
       "      <td>https://s3.amazonaws.com/media.wikiaves.com.br...</td>\n",
       "      <td>Itapemirim/ES</td>\n",
       "      <td>725.0</td>\n",
       "      <td>3136702</td>\n",
       "      <td>10530.0</td>\n",
       "      <td>Athene cunicularia</td>\n",
       "      <td>coruja-buraqueira</td>\n",
       "      <td>coruja-buraqueira</td>\n",
       "    </tr>\n",
       "    <tr>\n",
       "      <th>1</th>\n",
       "      <td>1</td>\n",
       "      <td>1.0</td>\n",
       "      <td>3033917.0</td>\n",
       "      <td>1.0</td>\n",
       "      <td>2008-06-14</td>\n",
       "      <td>1.0</td>\n",
       "      <td>3302254</td>\n",
       "      <td>0.0</td>\n",
       "      <td>3.0</td>\n",
       "      <td>https://s3.amazonaws.com/media.wikiaves.com.br...</td>\n",
       "      <td>Itatiaia/RJ</td>\n",
       "      <td>45.0</td>\n",
       "      <td>3136702</td>\n",
       "      <td>11629.0</td>\n",
       "      <td>Zonotrichia capensis</td>\n",
       "      <td>tico-tico</td>\n",
       "      <td>tico-tico</td>\n",
       "    </tr>\n",
       "    <tr>\n",
       "      <th>2</th>\n",
       "      <td>2</td>\n",
       "      <td>1.0</td>\n",
       "      <td>3033916.0</td>\n",
       "      <td>1.0</td>\n",
       "      <td>2008-06-15</td>\n",
       "      <td>1.0</td>\n",
       "      <td>3302254</td>\n",
       "      <td>0.0</td>\n",
       "      <td>4.0</td>\n",
       "      <td>https://s3.amazonaws.com/media.wikiaves.com.br...</td>\n",
       "      <td>Itatiaia/RJ</td>\n",
       "      <td>34.0</td>\n",
       "      <td>3136702</td>\n",
       "      <td>10653.0</td>\n",
       "      <td>Heliodoxa rubricauda</td>\n",
       "      <td>beija-flor-rubi</td>\n",
       "      <td>beija-flor-rubi</td>\n",
       "    </tr>\n",
       "    <tr>\n",
       "      <th>3</th>\n",
       "      <td>3</td>\n",
       "      <td>1.0</td>\n",
       "      <td>18791.0</td>\n",
       "      <td>5.0</td>\n",
       "      <td>2008-06-15</td>\n",
       "      <td>1.0</td>\n",
       "      <td>3302254</td>\n",
       "      <td>0.0</td>\n",
       "      <td>5.0</td>\n",
       "      <td>https://s3.amazonaws.com/media.wikiaves.com.br...</td>\n",
       "      <td>Itatiaia/RJ</td>\n",
       "      <td>377.0</td>\n",
       "      <td>3136702</td>\n",
       "      <td>10653.0</td>\n",
       "      <td>Heliodoxa rubricauda</td>\n",
       "      <td>beija-flor-rubi</td>\n",
       "      <td>beija-flor-rubi</td>\n",
       "    </tr>\n",
       "    <tr>\n",
       "      <th>4</th>\n",
       "      <td>4</td>\n",
       "      <td>1.0</td>\n",
       "      <td>11876.0</td>\n",
       "      <td>4.0</td>\n",
       "      <td>2008-06-15</td>\n",
       "      <td>1.0</td>\n",
       "      <td>3302254</td>\n",
       "      <td>0.0</td>\n",
       "      <td>2.0</td>\n",
       "      <td>https://s3.amazonaws.com/media.wikiaves.com.br...</td>\n",
       "      <td>Itatiaia/RJ</td>\n",
       "      <td>271.0</td>\n",
       "      <td>3136702</td>\n",
       "      <td>10636.0</td>\n",
       "      <td>Thalurania glaucopis</td>\n",
       "      <td>beija-flor-de-fronte-violeta</td>\n",
       "      <td>beija-flor-de-fronte-violeta</td>\n",
       "    </tr>\n",
       "  </tbody>\n",
       "</table>\n",
       "</div>"
      ],
      "text/plain": [
       "   Unnamed: 0  author_id  registry_id  comment_count registry_date  is_large  \\\n",
       "0           0        1.0        173.0            0.0    2008-02-03       0.0   \n",
       "1           1        1.0    3033917.0            1.0    2008-06-14       1.0   \n",
       "2           2        1.0    3033916.0            1.0    2008-06-15       1.0   \n",
       "3           3        1.0      18791.0            5.0    2008-06-15       1.0   \n",
       "4           4        1.0      11876.0            4.0    2008-06-15       1.0   \n",
       "\n",
       "   location_id  is_flagged  like_count  \\\n",
       "0      3202801         0.0         2.0   \n",
       "1      3302254         0.0         3.0   \n",
       "2      3302254         0.0         4.0   \n",
       "3      3302254         0.0         5.0   \n",
       "4      3302254         0.0         2.0   \n",
       "\n",
       "                                       registry_link  location_name  \\\n",
       "0  https://s3.amazonaws.com/media.wikiaves.com.br...  Itapemirim/ES   \n",
       "1  https://s3.amazonaws.com/media.wikiaves.com.br...    Itatiaia/RJ   \n",
       "2  https://s3.amazonaws.com/media.wikiaves.com.br...    Itatiaia/RJ   \n",
       "3  https://s3.amazonaws.com/media.wikiaves.com.br...    Itatiaia/RJ   \n",
       "4  https://s3.amazonaws.com/media.wikiaves.com.br...    Itatiaia/RJ   \n",
       "\n",
       "   views_count  home_location_id  species_id scientific_species_name  \\\n",
       "0        725.0           3136702     10530.0      Athene cunicularia   \n",
       "1         45.0           3136702     11629.0    Zonotrichia capensis   \n",
       "2         34.0           3136702     10653.0    Heliodoxa rubricauda   \n",
       "3        377.0           3136702     10653.0    Heliodoxa rubricauda   \n",
       "4        271.0           3136702     10636.0    Thalurania glaucopis   \n",
       "\n",
       "           popular_species_name             species_wiki_slug  \n",
       "0             coruja-buraqueira             coruja-buraqueira  \n",
       "1                     tico-tico                     tico-tico  \n",
       "2               beija-flor-rubi               beija-flor-rubi  \n",
       "3               beija-flor-rubi               beija-flor-rubi  \n",
       "4  beija-flor-de-fronte-violeta  beija-flor-de-fronte-violeta  "
      ]
     },
     "execution_count": 4,
     "metadata": {},
     "output_type": "execute_result"
    }
   ],
   "source": [
    "bird_observations = pd.read_csv(\"bird_observations.csv\")\n",
    "bird_observations.head()"
   ]
  },
  {
   "cell_type": "markdown",
   "metadata": {},
   "source": [
    "### Data Processing\n",
    "\n",
    "#### Cleaning the Data\n",
    "\n",
    "The Wikiaves observation table includes many variables that are unimportant for my analysis, including the popular names of species, the comment counts of posts, and other columns that can be dropped from the table. \n",
    "\n",
    "I am converting the registry date for each post to a DateTime variable so I can form a new column with just the year, as that is what I care about when comparing against yearly deforestation data.\n",
    "\n",
    "In the printed output, now there are only six variables, which can be interesting to interpret but may not appear useful individually."
   ]
  },
  {
   "cell_type": "code",
   "execution_count": 5,
   "metadata": {},
   "outputs": [
    {
     "data": {
      "text/html": [
       "<div>\n",
       "<style scoped>\n",
       "    .dataframe tbody tr th:only-of-type {\n",
       "        vertical-align: middle;\n",
       "    }\n",
       "\n",
       "    .dataframe tbody tr th {\n",
       "        vertical-align: top;\n",
       "    }\n",
       "\n",
       "    .dataframe thead th {\n",
       "        text-align: right;\n",
       "    }\n",
       "</style>\n",
       "<table border=\"1\" class=\"dataframe\">\n",
       "  <thead>\n",
       "    <tr style=\"text-align: right;\">\n",
       "      <th></th>\n",
       "      <th>author_id</th>\n",
       "      <th>location_id</th>\n",
       "      <th>location_name</th>\n",
       "      <th>views_count</th>\n",
       "      <th>species_id</th>\n",
       "      <th>year</th>\n",
       "    </tr>\n",
       "  </thead>\n",
       "  <tbody>\n",
       "    <tr>\n",
       "      <th>0</th>\n",
       "      <td>1.0</td>\n",
       "      <td>3202801</td>\n",
       "      <td>Itapemirim/ES</td>\n",
       "      <td>725.0</td>\n",
       "      <td>10530.0</td>\n",
       "      <td>2008</td>\n",
       "    </tr>\n",
       "    <tr>\n",
       "      <th>1</th>\n",
       "      <td>1.0</td>\n",
       "      <td>3302254</td>\n",
       "      <td>Itatiaia/RJ</td>\n",
       "      <td>45.0</td>\n",
       "      <td>11629.0</td>\n",
       "      <td>2008</td>\n",
       "    </tr>\n",
       "    <tr>\n",
       "      <th>2</th>\n",
       "      <td>1.0</td>\n",
       "      <td>3302254</td>\n",
       "      <td>Itatiaia/RJ</td>\n",
       "      <td>34.0</td>\n",
       "      <td>10653.0</td>\n",
       "      <td>2008</td>\n",
       "    </tr>\n",
       "    <tr>\n",
       "      <th>3</th>\n",
       "      <td>1.0</td>\n",
       "      <td>3302254</td>\n",
       "      <td>Itatiaia/RJ</td>\n",
       "      <td>377.0</td>\n",
       "      <td>10653.0</td>\n",
       "      <td>2008</td>\n",
       "    </tr>\n",
       "    <tr>\n",
       "      <th>4</th>\n",
       "      <td>1.0</td>\n",
       "      <td>3302254</td>\n",
       "      <td>Itatiaia/RJ</td>\n",
       "      <td>271.0</td>\n",
       "      <td>10636.0</td>\n",
       "      <td>2008</td>\n",
       "    </tr>\n",
       "  </tbody>\n",
       "</table>\n",
       "</div>"
      ],
      "text/plain": [
       "   author_id  location_id  location_name  views_count  species_id  year\n",
       "0        1.0      3202801  Itapemirim/ES        725.0     10530.0  2008\n",
       "1        1.0      3302254    Itatiaia/RJ         45.0     11629.0  2008\n",
       "2        1.0      3302254    Itatiaia/RJ         34.0     10653.0  2008\n",
       "3        1.0      3302254    Itatiaia/RJ        377.0     10653.0  2008\n",
       "4        1.0      3302254    Itatiaia/RJ        271.0     10636.0  2008"
      ]
     },
     "execution_count": 5,
     "metadata": {},
     "output_type": "execute_result"
    }
   ],
   "source": [
    "# Drop unnecissary columns\n",
    "bird_observations = bird_observations.drop(['Unnamed: 0', 'registry_id','scientific_species_name', \n",
    "                                            'is_large', 'is_flagged', 'like_count', 'registry_link', \n",
    "                                            'comment_count', 'home_location_id', 'species_wiki_slug', \n",
    "                                            'popular_species_name'], axis = 1)\n",
    "# Convert registry_date to datetime\n",
    "bird_observations['registry_date'] = pd.to_datetime(bird_observations['registry_date'], infer_datetime_format = True)\n",
    "bird_observations['year'] = pd.DatetimeIndex(bird_observations['registry_date']).year # Create year column\n",
    "bird_observations = bird_observations.drop(['registry_date'], axis = 1) # Drop registry date\n",
    "bird_observations.head() # Print the first five rows of the table"
   ]
  },
  {
   "cell_type": "markdown",
   "metadata": {},
   "source": [
    "For this observation data to be useful, I must aggregate the individual observations into information that can be compared to our rainforest data. As the rainforest data contains information by the year, I will create a new DataTable out of the bird observation table which contains the total amount of bird observations, species found, locations where birds were seen, number of unique authors, and the amount of views on posts per year.\n",
    "\n",
    "This new table contains the five attributes described and can be understood better after printing the first five rows."
   ]
  },
  {
   "cell_type": "code",
   "execution_count": 6,
   "metadata": {},
   "outputs": [
    {
     "data": {
      "text/html": [
       "<div>\n",
       "<style scoped>\n",
       "    .dataframe tbody tr th:only-of-type {\n",
       "        vertical-align: middle;\n",
       "    }\n",
       "\n",
       "    .dataframe tbody tr th {\n",
       "        vertical-align: top;\n",
       "    }\n",
       "\n",
       "    .dataframe thead th {\n",
       "        text-align: right;\n",
       "    }\n",
       "</style>\n",
       "<table border=\"1\" class=\"dataframe\">\n",
       "  <thead>\n",
       "    <tr style=\"text-align: right;\">\n",
       "      <th></th>\n",
       "      <th>year</th>\n",
       "      <th>bird observations</th>\n",
       "      <th>species count</th>\n",
       "      <th>unique locations</th>\n",
       "      <th>total post views</th>\n",
       "      <th>unique authors</th>\n",
       "    </tr>\n",
       "  </thead>\n",
       "  <tbody>\n",
       "    <tr>\n",
       "      <th>0</th>\n",
       "      <td>2008</td>\n",
       "      <td>24673</td>\n",
       "      <td>1237</td>\n",
       "      <td>1341</td>\n",
       "      <td>10579665.0</td>\n",
       "      <td>1510</td>\n",
       "    </tr>\n",
       "    <tr>\n",
       "      <th>1</th>\n",
       "      <td>2009</td>\n",
       "      <td>64958</td>\n",
       "      <td>1384</td>\n",
       "      <td>1884</td>\n",
       "      <td>25459591.0</td>\n",
       "      <td>2363</td>\n",
       "    </tr>\n",
       "    <tr>\n",
       "      <th>2</th>\n",
       "      <td>2010</td>\n",
       "      <td>127033</td>\n",
       "      <td>1536</td>\n",
       "      <td>2427</td>\n",
       "      <td>47113497.0</td>\n",
       "      <td>3314</td>\n",
       "    </tr>\n",
       "    <tr>\n",
       "      <th>3</th>\n",
       "      <td>2011</td>\n",
       "      <td>194321</td>\n",
       "      <td>1655</td>\n",
       "      <td>2931</td>\n",
       "      <td>57132644.0</td>\n",
       "      <td>4196</td>\n",
       "    </tr>\n",
       "    <tr>\n",
       "      <th>4</th>\n",
       "      <td>2012</td>\n",
       "      <td>239962</td>\n",
       "      <td>1698</td>\n",
       "      <td>3163</td>\n",
       "      <td>59724088.0</td>\n",
       "      <td>5108</td>\n",
       "    </tr>\n",
       "  </tbody>\n",
       "</table>\n",
       "</div>"
      ],
      "text/plain": [
       "   year  bird observations  species count  unique locations  total post views  \\\n",
       "0  2008              24673           1237              1341        10579665.0   \n",
       "1  2009              64958           1384              1884        25459591.0   \n",
       "2  2010             127033           1536              2427        47113497.0   \n",
       "3  2011             194321           1655              2931        57132644.0   \n",
       "4  2012             239962           1698              3163        59724088.0   \n",
       "\n",
       "   unique authors  \n",
       "0            1510  \n",
       "1            2363  \n",
       "2            3314  \n",
       "3            4196  \n",
       "4            5108  "
      ]
     },
     "execution_count": 6,
     "metadata": {},
     "output_type": "execute_result"
    }
   ],
   "source": [
    "by_year = bird_observations.groupby(bird_observations['year']) # Group table by year column\n",
    "\n",
    "# Future column arrays\n",
    "years = []\n",
    "bird_count = []\n",
    "species_count = []\n",
    "location_count = []\n",
    "views_count = []\n",
    "unique_authors = []\n",
    "\n",
    "# For every year, aggregate the data and add to respective arrays\n",
    "year_iter = iter(by_year)\n",
    "for i in range(1, len(by_year)):\n",
    "    year, frame = next(year_iter)\n",
    "    years.append(year)\n",
    "    bird_count.append(len(frame))\n",
    "    species_count.append(len(frame['species_id'].unique()))\n",
    "    location_count.append(len(frame['location_id'].unique()))\n",
    "    views_count.append(frame['views_count'].sum())\n",
    "    unique_authors.append(len(frame['author_id'].unique()))\n",
    "\n",
    "# Add filled arrays into new DataFrame called observations\n",
    "observations = pd.DataFrame()\n",
    "observations['year'] = years\n",
    "observations['bird observations'] = bird_count\n",
    "observations['species count'] = species_count\n",
    "observations['unique locations'] = location_count\n",
    "observations['total post views'] = views_count\n",
    "observations['unique authors'] = unique_authors\n",
    "observations.head()"
   ]
  },
  {
   "cell_type": "markdown",
   "metadata": {},
   "source": [
    "Now, the observation data from Wikiaves is ready for comparison, and we can move on to our data about Brazilian Amazon deforestation.\n",
    "\n",
    "While there is less to clean in our deforestation dataset, the data needs to be scrubbed to be read as numbers correctly. I must import the locale library to properly remove the commas from what should be integer data."
   ]
  },
  {
   "cell_type": "code",
   "execution_count": 7,
   "metadata": {},
   "outputs": [],
   "source": [
    "import locale\n",
    "import re\n",
    "locale.setlocale( locale.LC_ALL, 'en_US.UTF-8');"
   ]
  },
  {
   "cell_type": "markdown",
   "metadata": {},
   "source": [
    "We will only be looking at the years from 2008 to 2018 as these are the only years we have information from Wikiaves. \n",
    "\n",
    "Here I am limiting the forest dataset to these years and dropping natural forest cover change, as it is unrelated to human-driven deforestation. I am converting all of the columns to integers and forest_cover_vs_pre1970 to a float. Printing the first five rows shows the new table with useable attributes. "
   ]
  },
  {
   "cell_type": "code",
   "execution_count": 8,
   "metadata": {},
   "outputs": [
    {
     "data": {
      "text/html": [
       "<div>\n",
       "<style scoped>\n",
       "    .dataframe tbody tr th:only-of-type {\n",
       "        vertical-align: middle;\n",
       "    }\n",
       "\n",
       "    .dataframe tbody tr th {\n",
       "        vertical-align: top;\n",
       "    }\n",
       "\n",
       "    .dataframe thead th {\n",
       "        text-align: right;\n",
       "    }\n",
       "</style>\n",
       "<table border=\"1\" class=\"dataframe\">\n",
       "  <thead>\n",
       "    <tr style=\"text-align: right;\">\n",
       "      <th></th>\n",
       "      <th>year</th>\n",
       "      <th>est forest cover</th>\n",
       "      <th>deforestation</th>\n",
       "      <th>forest cover vs pre1970</th>\n",
       "      <th>total loss since 1970</th>\n",
       "    </tr>\n",
       "  </thead>\n",
       "  <tbody>\n",
       "    <tr>\n",
       "      <th>27</th>\n",
       "      <td>2008</td>\n",
       "      <td>3451565</td>\n",
       "      <td>12911</td>\n",
       "      <td>84.2</td>\n",
       "      <td>648435</td>\n",
       "    </tr>\n",
       "    <tr>\n",
       "      <th>28</th>\n",
       "      <td>2009</td>\n",
       "      <td>3426846</td>\n",
       "      <td>7464</td>\n",
       "      <td>83.6</td>\n",
       "      <td>673154</td>\n",
       "    </tr>\n",
       "    <tr>\n",
       "      <th>29</th>\n",
       "      <td>2010</td>\n",
       "      <td>3433519</td>\n",
       "      <td>7000</td>\n",
       "      <td>83.7</td>\n",
       "      <td>666481</td>\n",
       "    </tr>\n",
       "    <tr>\n",
       "      <th>30</th>\n",
       "      <td>2011</td>\n",
       "      <td>3432446</td>\n",
       "      <td>6418</td>\n",
       "      <td>83.7</td>\n",
       "      <td>667554</td>\n",
       "    </tr>\n",
       "    <tr>\n",
       "      <th>31</th>\n",
       "      <td>2012</td>\n",
       "      <td>3432170</td>\n",
       "      <td>4571</td>\n",
       "      <td>83.7</td>\n",
       "      <td>667830</td>\n",
       "    </tr>\n",
       "  </tbody>\n",
       "</table>\n",
       "</div>"
      ],
      "text/plain": [
       "    year  est forest cover  deforestation  forest cover vs pre1970  \\\n",
       "27  2008           3451565          12911                     84.2   \n",
       "28  2009           3426846           7464                     83.6   \n",
       "29  2010           3433519           7000                     83.7   \n",
       "30  2011           3432446           6418                     83.7   \n",
       "31  2012           3432170           4571                     83.7   \n",
       "\n",
       "    total loss since 1970  \n",
       "27                 648435  \n",
       "28                 673154  \n",
       "29                 666481  \n",
       "30                 667554  \n",
       "31                 667830  "
      ]
     },
     "execution_count": 8,
     "metadata": {},
     "output_type": "execute_result"
    }
   ],
   "source": [
    "forest = forest[forest.index > 26] # Only using years from 2008 to 2018\n",
    "forest = forest[forest.index != 38]\n",
    "\n",
    "forest.drop([0], axis = 1, inplace = True) # Drop unnecissary columns\n",
    "forest.drop([4], axis = 1, inplace = True)\n",
    "\n",
    "# Convert columns into integers (float for forest_cover_vs_pre1970 using RegEx)\n",
    "forest.rename(columns = {1: 'year', 2: 'est forest cover', 3: 'deforestation', 5: 'forest cover vs pre1970', 6: 'total loss since 1970'}, inplace=True)\n",
    "forest['year'] = pd.to_numeric(forest['year'])\n",
    "forest['est forest cover'] = forest['est forest cover'].apply(lambda x: locale.atoi(str(x)))\n",
    "forest['deforestation'] = forest['deforestation'].apply(lambda x: locale.atoi(str(x)))\n",
    "forest['total loss since 1970'] = forest['total loss since 1970'].apply(lambda x: locale.atoi(str(x)))\n",
    "forest['forest cover vs pre1970'] = forest['forest cover vs pre1970'].apply(lambda x: float(re.split(r\"%\", str(x))[0]))\n",
    "\n",
    "forest.head()"
   ]
  },
  {
   "cell_type": "markdown",
   "metadata": {},
   "source": [
    "#### Merging Datasets\n",
    "\n",
    "For easier plotting and comparison, I will merge the two datasets into one table called \"merged_table\". I am joining the datasets on the year columns which are the same. Plotting the first five rows shows all attributes together in one table all represented for each year from 2008-2012."
   ]
  },
  {
   "cell_type": "code",
   "execution_count": 9,
   "metadata": {},
   "outputs": [
    {
     "data": {
      "text/html": [
       "<div>\n",
       "<style scoped>\n",
       "    .dataframe tbody tr th:only-of-type {\n",
       "        vertical-align: middle;\n",
       "    }\n",
       "\n",
       "    .dataframe tbody tr th {\n",
       "        vertical-align: top;\n",
       "    }\n",
       "\n",
       "    .dataframe thead th {\n",
       "        text-align: right;\n",
       "    }\n",
       "</style>\n",
       "<table border=\"1\" class=\"dataframe\">\n",
       "  <thead>\n",
       "    <tr style=\"text-align: right;\">\n",
       "      <th></th>\n",
       "      <th>year</th>\n",
       "      <th>bird observations</th>\n",
       "      <th>species count</th>\n",
       "      <th>unique locations</th>\n",
       "      <th>total post views</th>\n",
       "      <th>unique authors</th>\n",
       "      <th>est forest cover</th>\n",
       "      <th>deforestation</th>\n",
       "      <th>forest cover vs pre1970</th>\n",
       "      <th>total loss since 1970</th>\n",
       "    </tr>\n",
       "  </thead>\n",
       "  <tbody>\n",
       "    <tr>\n",
       "      <th>0</th>\n",
       "      <td>2008</td>\n",
       "      <td>24673</td>\n",
       "      <td>1237</td>\n",
       "      <td>1341</td>\n",
       "      <td>10579665.0</td>\n",
       "      <td>1510</td>\n",
       "      <td>3451565</td>\n",
       "      <td>12911</td>\n",
       "      <td>84.2</td>\n",
       "      <td>648435</td>\n",
       "    </tr>\n",
       "    <tr>\n",
       "      <th>1</th>\n",
       "      <td>2009</td>\n",
       "      <td>64958</td>\n",
       "      <td>1384</td>\n",
       "      <td>1884</td>\n",
       "      <td>25459591.0</td>\n",
       "      <td>2363</td>\n",
       "      <td>3426846</td>\n",
       "      <td>7464</td>\n",
       "      <td>83.6</td>\n",
       "      <td>673154</td>\n",
       "    </tr>\n",
       "    <tr>\n",
       "      <th>2</th>\n",
       "      <td>2010</td>\n",
       "      <td>127033</td>\n",
       "      <td>1536</td>\n",
       "      <td>2427</td>\n",
       "      <td>47113497.0</td>\n",
       "      <td>3314</td>\n",
       "      <td>3433519</td>\n",
       "      <td>7000</td>\n",
       "      <td>83.7</td>\n",
       "      <td>666481</td>\n",
       "    </tr>\n",
       "    <tr>\n",
       "      <th>3</th>\n",
       "      <td>2011</td>\n",
       "      <td>194321</td>\n",
       "      <td>1655</td>\n",
       "      <td>2931</td>\n",
       "      <td>57132644.0</td>\n",
       "      <td>4196</td>\n",
       "      <td>3432446</td>\n",
       "      <td>6418</td>\n",
       "      <td>83.7</td>\n",
       "      <td>667554</td>\n",
       "    </tr>\n",
       "    <tr>\n",
       "      <th>4</th>\n",
       "      <td>2012</td>\n",
       "      <td>239962</td>\n",
       "      <td>1698</td>\n",
       "      <td>3163</td>\n",
       "      <td>59724088.0</td>\n",
       "      <td>5108</td>\n",
       "      <td>3432170</td>\n",
       "      <td>4571</td>\n",
       "      <td>83.7</td>\n",
       "      <td>667830</td>\n",
       "    </tr>\n",
       "  </tbody>\n",
       "</table>\n",
       "</div>"
      ],
      "text/plain": [
       "   year  bird observations  species count  unique locations  total post views  \\\n",
       "0  2008              24673           1237              1341        10579665.0   \n",
       "1  2009              64958           1384              1884        25459591.0   \n",
       "2  2010             127033           1536              2427        47113497.0   \n",
       "3  2011             194321           1655              2931        57132644.0   \n",
       "4  2012             239962           1698              3163        59724088.0   \n",
       "\n",
       "   unique authors  est forest cover  deforestation  forest cover vs pre1970  \\\n",
       "0            1510           3451565          12911                     84.2   \n",
       "1            2363           3426846           7464                     83.6   \n",
       "2            3314           3433519           7000                     83.7   \n",
       "3            4196           3432446           6418                     83.7   \n",
       "4            5108           3432170           4571                     83.7   \n",
       "\n",
       "   total loss since 1970  \n",
       "0                 648435  \n",
       "1                 673154  \n",
       "2                 666481  \n",
       "3                 667554  \n",
       "4                 667830  "
      ]
     },
     "execution_count": 9,
     "metadata": {},
     "output_type": "execute_result"
    }
   ],
   "source": [
    "merged_table = observations.merge(forest, left_on = 'year', right_on = 'year')\n",
    "merged_table.head()"
   ]
  },
  {
   "cell_type": "markdown",
   "metadata": {},
   "source": [
    "### Data Visualization and Exploration\n",
    "\n",
    "An important step in the data science lifecycle is Data Visualization. While observing the table can show us information, it is much easier to understand our data if we use graphs to visualize the trends over time for different variables.\n",
    "\n",
    "I will be using matplotlib and seaborn python libraries to graph interesting attributes before analysis."
   ]
  },
  {
   "cell_type": "code",
   "execution_count": 10,
   "metadata": {},
   "outputs": [],
   "source": [
    "import seaborn as sns\n",
    "import matplotlib.pyplot as plt"
   ]
  },
  {
   "cell_type": "markdown",
   "metadata": {},
   "source": [
    "#### Visualizing Amazon Deforestation\n",
    "\n",
    "Below I will create a matplotlib subplot with four graphs depicting each of the columns related to Amazon deforestation. I am using seaborn's regplot function to form a scatter plot with a regression line to better see the general trend of the data. While useful, it is important to remember that with only 11 years on the x axis, a regression line may not fit the true trends of the data closely if it is non-linear. With this in mind, hopefully we can discover some things we hadn't considered before."
   ]
  },
  {
   "cell_type": "code",
   "execution_count": 11,
   "metadata": {},
   "outputs": [
    {
     "data": {
      "image/png": "[encoded data removed]",
      "text/plain": [
       "<Figure size 720x504 with 4 Axes>"
      ]
     },
     "metadata": {
      "needs_background": "light"
     },
     "output_type": "display_data"
    }
   ],
   "source": [
    "fig = plt.figure(figsize = (10, 7))\n",
    "\n",
    "# Estimated Forest Cover per Year\n",
    "plt.subplot(221)\n",
    "plt.title(\"Estimated Forest Cover per Year\")\n",
    "sns.regplot(data = merged_table, x = \"year\", y = \"est forest cover\")\n",
    "plt.xlabel('Year')\n",
    "plt.ylabel(\"Estimated Forest Cover (in Million Km^2)\")\n",
    "\n",
    "# Deforestation per Year\n",
    "plt.subplot(2,2,2)\n",
    "plt.title('Deforestation per Year')\n",
    "sns.regplot(data = merged_table, x = 'year', y = 'deforestation')\n",
    "plt.xlabel('Year')\n",
    "plt.ylabel(\"Deforestation (Km^2)\")\n",
    "\n",
    "# Forest Cover vs Pre-1970 per Year\n",
    "plt.subplot(223)\n",
    "plt.title('Forest Cover vs Pre-1970 per Year')\n",
    "sns.regplot(data = merged_table, x = 'year', y = 'forest cover vs pre1970')\n",
    "plt.xlabel('Year')\n",
    "plt.ylabel(\"Forest Cover (%)\")\n",
    "\n",
    "# Total Loss Since 1970 per Year\n",
    "plt.subplot(2,2,4)\n",
    "plt.title('Total Loss Since 1970 per Year')\n",
    "sns.regplot(data = merged_table, x = 'year', y = 'total loss since 1970')\n",
    "plt.xlabel('Year')\n",
    "plt.ylabel(\"Total Loss Since 1970 (Km^2)\")\n",
    "\n",
    "plt.subplots_adjust(left=.125, bottom=.1, right=.9, top=.9, wspace=.4, hspace=.5)\n",
    "\n",
    "plt.show()\n"
   ]
  },
  {
   "cell_type": "markdown",
   "metadata": {},
   "source": [
    "These plots and their regression lines now clearly display the trends of deforestation, forest cover, and loss in the Amazon.\n",
    "\n",
    "Estimated forest cover was fairly stagnant until around 2013 where it has decreased steadily since, and the forest cover compared to pre-1970 levels mimics the same trend but displayed through percentages. While deforestation decreased until 2012, since then it has been increasing, and the total loss of the Amazon since 1970 has also increased steadily after 2012.\n",
    "\n",
    "It is interesting to see that it is only up until recently (roughly 2012-2013) when deforestation has become more rampant, destroying the forest cover and increasing the forest loss in total. \n",
    "\n",
    "We can see how these graphs are related by their similar or inverse slopes. Since Forest Cover vs Pre-1970 per Year and Estimated Forest Cover per year are representing the same information, I will remove Forest Cover vs Pre-1970 per Year as a variable for our further modeling."
   ]
  },
  {
   "cell_type": "code",
   "execution_count": 12,
   "metadata": {},
   "outputs": [],
   "source": [
    "merged_table.drop([\"forest cover vs pre1970\"], axis = 1, inplace = True)"
   ]
  },
  {
   "cell_type": "markdown",
   "metadata": {},
   "source": [
    "#### Visualizing Wikiaves Birdwatching Activity\n",
    "\n",
    "Now that we understand our data considering the Amazon, we will now explore the data of Wikiaves users and their birdwatching activity. I will plot the four attributes related to Wikaves user activity: Birds Observed, Species Observed, Location Count, and Post Views."
   ]
  },
  {
   "cell_type": "code",
   "execution_count": 13,
   "metadata": {},
   "outputs": [
    {
     "data": {
      "image/png": "[encoded data removed]",
      "text/plain": [
       "<Figure size 1008x720 with 5 Axes>"
      ]
     },
     "metadata": {
      "needs_background": "light"
     },
     "output_type": "display_data"
    }
   ],
   "source": [
    "# Birds Observed per Year\n",
    "fig = plt.figure(figsize = (14, 10))\n",
    "plt.subplot(231)\n",
    "plt.title(\"Birds Observed per Year\")\n",
    "sns.regplot(data = merged_table, x = \"year\", y = \"bird observations\")\n",
    "plt.xlabel('Year')\n",
    "plt.ylabel(\"Birds Observed\")\n",
    "\n",
    "# Species Observed per Year\n",
    "plt.subplot(2,3,2)\n",
    "plt.title('Species Observed per Year')\n",
    "sns.regplot(data = merged_table, x = 'year', y = 'species count')\n",
    "plt.xlabel('Year')\n",
    "plt.ylabel(\"Species Observed\")\n",
    "\n",
    "# Location Count per Year\n",
    "plt.subplot(233)\n",
    "plt.title('Unique Locations per Year')\n",
    "sns.regplot(data = merged_table, x = 'year', y = 'unique locations')\n",
    "plt.xlabel('Year')\n",
    "plt.ylabel(\"Unique Locations\")\n",
    "\n",
    "# Post Views per Year\n",
    "plt.subplot(2,3,4)\n",
    "plt.title('Total Post Views per Year')\n",
    "sns.regplot(data = merged_table, x = 'year', y = 'total post views')\n",
    "plt.xlabel('Year')\n",
    "plt.ylabel(\"Views\")\n",
    "\n",
    "# Unique Authors per Year\n",
    "plt.subplot(235)\n",
    "plt.title('Unique Authors per Year')\n",
    "sns.regplot(data = merged_table, x = 'year', y = 'unique authors')\n",
    "plt.xlabel('Year')\n",
    "plt.ylabel(\"Unique Authors\")\n",
    "\n",
    "plt.subplots_adjust(left=.125, bottom=.1, right=.9, top=.7, wspace=.4, hspace=.5)\n",
    "\n",
    "plt.show()"
   ]
  },
  {
   "cell_type": "markdown",
   "metadata": {},
   "source": [
    "Interestingly, it seems that from 2008 to 2015-2016, Birds Observed, Species Observed, and the Location Count per year have increased, although the trend becomes less convincing in 2016.\n",
    "\n",
    "Despite the overall increase in birds and species observed along with bird diversity, the total number of people who viewed posts on Wikiaves.com had a sharp decrease in 2013 and has continuially fallen since. Looking at the number of unique posters on the site, there have been decreasing numbers since 2012, which could contribute to the drop in total views on posts. This data suggests that in recent years, there are less overall users on Wikiaves but each user posts more on average than in the past. \n",
    "\n",
    "#### Adjusting Variables from Results\n",
    "\n",
    "Considering the dynamic between an increasing number of posts per year and less unique authors per year, I will create a new variable called \"Avg Birds Observed per Unique Author\" by dividing total bird observations over the unique authors per year, which I will explore further in this tutorial."
   ]
  },
  {
   "cell_type": "code",
   "execution_count": 14,
   "metadata": {},
   "outputs": [],
   "source": [
    "merged_table['avg birds observed per unique author'] = merged_table['bird observations']/merged_table['unique authors']"
   ]
  },
  {
   "cell_type": "markdown",
   "metadata": {},
   "source": [
    "For now, plotting Average Birds Observed per Unique Author shows us the average number of posts any particular user of Wikaves has submitted per year, which can help us understand the activity of the webpage over time."
   ]
  },
  {
   "cell_type": "code",
   "execution_count": 15,
   "metadata": {},
   "outputs": [
    {
     "data": {
      "image/png": "[encoded data removed]",
      "text/plain": [
       "<Figure size 432x288 with 1 Axes>"
      ]
     },
     "metadata": {
      "needs_background": "light"
     },
     "output_type": "display_data"
    }
   ],
   "source": [
    "# Average Birds Observed per Unique Author per Year\n",
    "sns.barplot(data = merged_table, x = 'year', y = 'avg birds observed per unique author')\n",
    "plt.title('Average Birds Observed per Unique Author per Year')\n",
    "plt.xlabel('Year')\n",
    "plt.ylabel('Avg Birds Observed per Unique Author')\n",
    "plt.show()"
   ]
  },
  {
   "cell_type": "markdown",
   "metadata": {},
   "source": [
    "It's clear now that the average user on Wikiaves has increased their number of yearly posts over time."
   ]
  },
  {
   "cell_type": "markdown",
   "metadata": {},
   "source": [
    "#### Relationship between Deforestation and Wikiaves Activity\n",
    "\n",
    "Vizualizing our datasets by themselves has helped us understand each better, but the main objective in this tutorial is exploring the relationship between deforestation in the Amazon and birdwatching activity on Wikiaves, which means we must put the two datasets together and see how one may or may not explain the other. Coming into this tutorial, my hypothesis was that as deforestation increased, the number of birds observed would decrease. Looking at these plots above, this doesn't seem to be the case for individual attributes, but exploring a combination of variables may help us discover relationships we did not expect."
   ]
  },
  {
   "cell_type": "markdown",
   "metadata": {},
   "source": [
    "### Model Creation and Analysis\n",
    "\n",
    "Now that we have organized and gained an understanding of our data, it is time to enter the next step of the data science lifecycle, model creation and analysis. We will build a model that utilizes multiple of our deforestation variables to predict the number of birds observed in a given year and test its accuracy. \n",
    "\n",
    "#### Normalizing our Variables\n",
    "\n",
    "Before we begin, a good practice in machine learning is standardizing or normalizing our variables depending on the models we are using, meaning we transform our variables into a format so that they can be more easily and practically compared and analyzed with each other. Considering some of our variables are in the scope of millions of km^2 and others in thousands, our machine learning models might be biased in favor of different variables simply because of their format and variance. If we tranform each variable to a range within 0 and 1 while maintaining the meaning behind each, all of the variables will be on an even playing field in our analysis. I will be normalizing all variables except year and bird observations.\n",
    "\n",
    "Luckily, sklearn has a feature normalize in preprocessing which allows us to easily normalize our variables. If you would like to learn more about standardization and normalization please read here: (https://www.analyticsvidhya.com/blog/2020/04/feature-scaling-machine-learning-normalization-standardization/)\n",
    "\n",
    "Printing the first five rows shows the new normalized attributes, all spanning from 0 to 1."
   ]
  },
  {
   "cell_type": "code",
   "execution_count": 22,
   "metadata": {},
   "outputs": [
    {
     "data": {
      "text/html": [
       "<div>\n",
       "<style scoped>\n",
       "    .dataframe tbody tr th:only-of-type {\n",
       "        vertical-align: middle;\n",
       "    }\n",
       "\n",
       "    .dataframe tbody tr th {\n",
       "        vertical-align: top;\n",
       "    }\n",
       "\n",
       "    .dataframe thead th {\n",
       "        text-align: right;\n",
       "    }\n",
       "</style>\n",
       "<table border=\"1\" class=\"dataframe\">\n",
       "  <thead>\n",
       "    <tr style=\"text-align: right;\">\n",
       "      <th></th>\n",
       "      <th>year</th>\n",
       "      <th>species count</th>\n",
       "      <th>unique locations</th>\n",
       "      <th>total post views</th>\n",
       "      <th>unique authors</th>\n",
       "      <th>est forest cover</th>\n",
       "      <th>deforestation</th>\n",
       "      <th>total loss since 1970</th>\n",
       "      <th>avg birds observed per unique author</th>\n",
       "      <th>bird observations</th>\n",
       "    </tr>\n",
       "  </thead>\n",
       "  <tbody>\n",
       "    <tr>\n",
       "      <th>0</th>\n",
       "      <td>2008</td>\n",
       "      <td>0.000000</td>\n",
       "      <td>0.000000</td>\n",
       "      <td>0.037646</td>\n",
       "      <td>0.000000</td>\n",
       "      <td>1.000000</td>\n",
       "      <td>1.000000</td>\n",
       "      <td>0.000000</td>\n",
       "      <td>0.000000</td>\n",
       "      <td>24673</td>\n",
       "    </tr>\n",
       "    <tr>\n",
       "      <th>1</th>\n",
       "      <td>2009</td>\n",
       "      <td>0.262970</td>\n",
       "      <td>0.256981</td>\n",
       "      <td>0.329027</td>\n",
       "      <td>0.205443</td>\n",
       "      <td>0.592969</td>\n",
       "      <td>0.346882</td>\n",
       "      <td>0.407031</td>\n",
       "      <td>0.231942</td>\n",
       "      <td>64958</td>\n",
       "    </tr>\n",
       "    <tr>\n",
       "      <th>2</th>\n",
       "      <td>2010</td>\n",
       "      <td>0.534884</td>\n",
       "      <td>0.513961</td>\n",
       "      <td>0.753057</td>\n",
       "      <td>0.434489</td>\n",
       "      <td>0.702849</td>\n",
       "      <td>0.291247</td>\n",
       "      <td>0.297151</td>\n",
       "      <td>0.457492</td>\n",
       "      <td>127033</td>\n",
       "    </tr>\n",
       "    <tr>\n",
       "      <th>3</th>\n",
       "      <td>2011</td>\n",
       "      <td>0.747764</td>\n",
       "      <td>0.752485</td>\n",
       "      <td>0.949254</td>\n",
       "      <td>0.646917</td>\n",
       "      <td>0.685180</td>\n",
       "      <td>0.221463</td>\n",
       "      <td>0.314820</td>\n",
       "      <td>0.623469</td>\n",
       "      <td>194321</td>\n",
       "    </tr>\n",
       "    <tr>\n",
       "      <th>4</th>\n",
       "      <td>2012</td>\n",
       "      <td>0.824687</td>\n",
       "      <td>0.862281</td>\n",
       "      <td>1.000000</td>\n",
       "      <td>0.866570</td>\n",
       "      <td>0.680636</td>\n",
       "      <td>0.000000</td>\n",
       "      <td>0.319364</td>\n",
       "      <td>0.637337</td>\n",
       "      <td>239962</td>\n",
       "    </tr>\n",
       "  </tbody>\n",
       "</table>\n",
       "</div>"
      ],
      "text/plain": [
       "   year  species count  unique locations  total post views  unique authors  \\\n",
       "0  2008       0.000000          0.000000          0.037646        0.000000   \n",
       "1  2009       0.262970          0.256981          0.329027        0.205443   \n",
       "2  2010       0.534884          0.513961          0.753057        0.434489   \n",
       "3  2011       0.747764          0.752485          0.949254        0.646917   \n",
       "4  2012       0.824687          0.862281          1.000000        0.866570   \n",
       "\n",
       "   est forest cover  deforestation  total loss since 1970  \\\n",
       "0          1.000000       1.000000               0.000000   \n",
       "1          0.592969       0.346882               0.407031   \n",
       "2          0.702849       0.291247               0.297151   \n",
       "3          0.685180       0.221463               0.314820   \n",
       "4          0.680636       0.000000               0.319364   \n",
       "\n",
       "   avg birds observed per unique author  bird observations  \n",
       "0                              0.000000              24673  \n",
       "1                              0.231942              64958  \n",
       "2                              0.457492             127033  \n",
       "3                              0.623469             194321  \n",
       "4                              0.637337             239962  "
      ]
     },
     "execution_count": 22,
     "metadata": {},
     "output_type": "execute_result"
    }
   ],
   "source": [
    "from sklearn import preprocessing\n",
    "\n",
    "# Selecting values for normalization\n",
    "x = merged_table[['species count', 'unique locations', 'total post views', 'unique authors', 'est forest cover', \n",
    "                  'deforestation', 'total loss since 1970', 'avg birds observed per unique author']].values\n",
    "\n",
    "# Using sklearn MinMaxScaler\n",
    "min_max_scaler = preprocessing.MinMaxScaler()\n",
    "scaled_values = min_max_scaler.fit_transform(x)\n",
    "\n",
    "# Creating new table that has normalized values\n",
    "normalized_table = pd.DataFrame(scaled_values) \n",
    "normalized_table.rename(columns = {0: 'species count', 1: 'unique locations', 2: 'total post views', \n",
    "                                   3: 'unique authors', 4: 'est forest cover', 5: 'deforestation', \n",
    "                                   6: 'total loss since 1970', 7: 'avg birds observed per unique author'}, inplace = True)\n",
    "normalized_table.insert(loc = 0, column = 'year', value = merged_table['year'])\n",
    "normalized_table.insert(loc = 9, column = 'bird observations', value = merged_table['bird observations'])\n",
    "\n",
    "normalized_table.head()"
   ]
  },
  {
   "cell_type": "markdown",
   "metadata": {},
   "source": [
    "#### Choosing Predictor Variables\n",
    "\n",
    "Our goal when using our Machine Learning models will be understand if Brazilian Amazon deforestation is related to total bird observations on Wikiaves.com.\n",
    "\n",
    "The Prediction Variables (X) are:\n",
    "\n",
    "Estimated Forest Cover,\n",
    "Deforestation,\n",
    "Total Loss Since 1970\n",
    "\n",
    "The Predicted Variable (y) is:\n",
    "\n",
    "Bird Observations"
   ]
  },
  {
   "cell_type": "code",
   "execution_count": 23,
   "metadata": {},
   "outputs": [],
   "source": [
    "# Selecting variables for prediction and to be predicted\n",
    "X = normalized_table[['est forest cover', 'deforestation', 'total loss since 1970']]\n",
    "y = normalized_table[['bird observations']]"
   ]
  },
  {
   "cell_type": "markdown",
   "metadata": {},
   "source": [
    "#### Choosing our Models\n",
    "\n",
    "Now that our data is normalized, we are ready to start the machine learning process, which begins by choosing our models. As we have numerical continuous variables, we should use models that have the ability to work with continuous data. All models with a few exceptions are applicable to both, but my personal favorites are Linear Regression, Random Forests and Gradient Descent. We can use all three and then compare the results to see which work the best and if they are meaningful.\n",
    "\n",
    "#### Splitting our Data\n",
    "\n",
    "To test how our model performs, we need to split our data into a training set and a testing set. We will run our model on the training set and then test our model on the testing set which the model has never seen before, and see how well the predicted values compare to the actual values.\n",
    "\n",
    "Sklearn has a built in feature called train_test_split which we can import and use. 70% of the data will be used for training, and 30% of the data will be used to test the result.\n",
    "\n",
    "Note that the train_test_split function randomly chooses which data will be reserved for the training and testing datasets. For this reason, the results of our Machine Learning models will have varying results depending on how our data is split."
   ]
  },
  {
   "cell_type": "code",
   "execution_count": 17,
   "metadata": {},
   "outputs": [],
   "source": [
    "from sklearn.model_selection import train_test_split\n",
    "\n",
    "# Creating training and testing sets with train_test_split (70% for training, 30% for testing)\n",
    "x_train, x_test, y_train, y_test = train_test_split(X, y, test_size = .3)"
   ]
  },
  {
   "cell_type": "markdown",
   "metadata": {},
   "source": [
    "#### Using our Models\n",
    "\n",
    "Now that our data is split into training and testing sets, we can use our three Machine Learning models which are all built into sklearn."
   ]
  },
  {
   "cell_type": "code",
   "execution_count": 178,
   "metadata": {},
   "outputs": [],
   "source": [
    "import numpy as np\n",
    "from sklearn.linear_model import LinearRegression\n",
    "from sklearn.ensemble import RandomForestRegressor\n",
    "from sklearn.linear_model import SGDRegressor\n",
    "from scipy.stats import ttest_ind\n",
    "from sklearn import metrics\n",
    "import warnings\n",
    "warnings.filterwarnings('ignore')"
   ]
  },
  {
   "cell_type": "markdown",
   "metadata": {},
   "source": [
    "I will be using sklearn's LinearRegression function to train and test the data followed by RandomForestRegressor and SGDRegressor. These models will fit the training data to predict bird observation values of the x test data we reserved from the total dataset. We can obtain a score from the regressor which is it's r squared value (how much variation is explained by our model). We then will perform a sample t test to understand how much our model actually fit the true data.\n",
    "\n",
    "#### Multiple Linear Regression\n",
    "\n",
    "Multiple Linear Regression is an extension of Linear Regression which uses several explanatory variables. This technique estimates the relationship between multiple independent variables to reach a numerical conclusion of the dependent variable, in this case, Birds Observed.\n",
    "\n",
    "Learn more about Multiple Linear Regression here: https://www.scribbr.com/statistics/multiple-linear-regression/"
   ]
  },
  {
   "cell_type": "code",
   "execution_count": 185,
   "metadata": {},
   "outputs": [
    {
     "name": "stdout",
     "output_type": "stream",
     "text": [
      "| Linear Regression:\n",
      "|\n",
      "| R Squared:  0.3530148224049028\n",
      "| Mean Squared Error:  12191281030.2\n",
      "| T value:  [0.40182162]\n",
      "| P Value:  [0.69899475]\n"
     ]
    }
   ],
   "source": [
    "# Linear Regression\n",
    "lrg = LinearRegression()\n",
    "lrg.fit(x_train, y_train) # Fit the training data\n",
    "lrg_ypred = lrg.predict(x_test) # Predict bird observations for x_test\n",
    "t, p = ttest_ind(y_test, lrg_ypred, equal_var = False) # Sklearn sample t test\n",
    "print(\"| Linear Regression:\")\n",
    "print(\"|\")\n",
    "print(\"| R Squared: \", lrg.score(x_test, y_test))\n",
    "print(\"| Mean Squared Error: \", metrics.mean_squared_error(y_test, lrg_ypred)) # Metrics MSE calculation\n",
    "print(\"| T value: \", t)\n",
    "print(\"| P Value: \", p)"
   ]
  },
  {
   "cell_type": "markdown",
   "metadata": {},
   "source": [
    "Our Linear Regression model calculated an R Squared of 0.353 and a large mean squared error, meaning that our model does not explain the variance of the data well. The P Value of 0.699 indicates that we would fail to reject the null hypothesis of equal mean between our predicted and actual values."
   ]
  },
  {
   "cell_type": "markdown",
   "metadata": {},
   "source": [
    "#### Random Forest Regression\n",
    "\n",
    "The Random Forest Regression model works by constructing many random decision trees on small samples of the overall data which individually make a prediction. Each of these decision trees are are highly specific to these samples, but the model works by taking the mean prediction to estimate the most reasonable prediction.\n",
    "\n",
    "Learn more about Random Forest Regression here: https://medium.com/swlh/random-forest-and-its-implementation-71824ced454f"
   ]
  },
  {
   "cell_type": "code",
   "execution_count": 186,
   "metadata": {},
   "outputs": [
    {
     "name": "stdout",
     "output_type": "stream",
     "text": [
      "| Random Forests\n",
      "|\n",
      "| R Squared:  0.3324797851756117\n",
      "| Mean Squared Error:  12578227158.948227\n",
      "| T Value:  [-0.57666702]\n",
      "| P Value:  [0.58944592]\n",
      "\n"
     ]
    }
   ],
   "source": [
    "# Random Forest Regression\n",
    "rfr = RandomForestRegressor(n_estimators = 500) # 500 decision trees\n",
    "rfr.fit(x_train, y_train.values.ravel()) # Fit the training data\n",
    "rfr_ypred = rfr.predict(x_test)\n",
    "t, p = ttest_ind(y_test, rfr_ypred, equal_var = False)\n",
    "print(\"| Random Forests\")\n",
    "print(\"|\")\n",
    "print(\"| R Squared: \", rfr.score(x_test, np.ravel(y_test)))\n",
    "print(\"| Mean Squared Error: \", metrics.mean_squared_error(y_test, rfr_ypred)) # Metrics MSE calculation\n",
    "print(\"| T Value: \", t)\n",
    "print(\"| P Value: \", p)\n",
    "print()"
   ]
  },
  {
   "cell_type": "markdown",
   "metadata": {},
   "source": [
    "The Random Forest model calculated a similar R Squared value of 0.333 and has a large MSE. The P value also indicates that we would fail to reject the null hypothesis of equal mean between our predicted and actual values."
   ]
  },
  {
   "cell_type": "markdown",
   "metadata": {},
   "source": [
    "#### Stochastic Gradient Descent Regression\n",
    "\n",
    "The Gradient Descent Regression model is an iterative algorithm which in each run attempts to reduce the error between the the actual y value and the predicted y value. It does this using a gradient (which with one variable is the slope) of our prediction equation. Stochastic Gradient Descent means this algorithm is run on random data points from our data set on each iteration to make the process more efficient.\n",
    "\n",
    "Learn more about Stochastic Gradient Descent here: https://towardsdatascience.com/stochastic-gradient-descent-clearly-explained-53d239905d31"
   ]
  },
  {
   "cell_type": "code",
   "execution_count": 187,
   "metadata": {},
   "outputs": [
    {
     "name": "stdout",
     "output_type": "stream",
     "text": [
      "| Stochastic Gradient Descent: \n",
      "|\n",
      "| R Squared:  0.6392131044124635\n",
      "| Mean Squared Error:  6798385169.302546\n",
      "| T Value:  [-0.18855047]\n",
      "| P Value:  [0.85643161]\n"
     ]
    }
   ],
   "source": [
    "# Stochastic Gradient Descent Regression\n",
    "reg = SGDRegressor(max_iter = 7000) # Using 7000 iterations \n",
    "reg.fit(x_train, np.ravel(y_train)) # Fitting training data\n",
    "reg_ypred = reg.predict(x_test) # Sklearn sample t test\n",
    "t, p = ttest_ind(y_test, reg_ypred, equal_var = False) # Sklearn t test between y's\n",
    "print(\"| Stochastic Gradient Descent: \")\n",
    "print(\"|\")\n",
    "print(\"| R Squared: \", reg.score(x_test, np.ravel(y_test)))\n",
    "print(\"| Mean Squared Error: \", metrics.mean_squared_error(y_test, reg_ypred)) # Metrics MSE calculation\n",
    "print(\"| T Value: \", t)\n",
    "print(\"| P Value: \", p)"
   ]
  },
  {
   "cell_type": "markdown",
   "metadata": {},
   "source": [
    "The Stochastic Gradient Descent model derived an R Squared value of 0.639, meaning that our model explains approximately 63.9% of the data. While this is better than the values previously observed, the P value of 0.85 also indicates that we would fail to reject the null hypothesis of equal mean between our predicted and actual values."
   ]
  },
  {
   "cell_type": "markdown",
   "metadata": {},
   "source": [
    "### Results\n",
    "\n",
    "We can display our outputs visually through bar graphs using seaborn's catplot function."
   ]
  },
  {
   "cell_type": "code",
   "execution_count": 208,
   "metadata": {},
   "outputs": [
    {
     "data": {
      "image/png": "[encoded data removed]",
      "text/plain": [
       "<Figure size 447.5x360 with 1 Axes>"
      ]
     },
     "metadata": {
      "needs_background": "light"
     },
     "output_type": "display_data"
    }
   ],
   "source": [
    "# Creating DataFrame with results to graph\n",
    "results = pd.DataFrame()\n",
    "results['Percent'] = [0.353, 0.333, 0.639, .699, .589, .856]\n",
    "results['Method'] = ['Linear Regression', 'Random Forests', 'Gradient Descent', \n",
    "                     'Linear Regression', 'Random Forests', 'Gradient Descent']\n",
    "results['Statistic'] = ['R Squared', 'R Squared', 'R Squared', 'P', 'P', 'P']\n",
    "\n",
    "# Using seaborn catplot to plot results\n",
    "plot = sns.catplot(\n",
    "    data = results, kind = \"bar\", x = 'Method', y = 'Percent', \n",
    "    hue = 'Statistic', palette = 'dark', alpha = .6, height = 5)\n",
    "plot.despine(left = True)\n",
    "plot.set_axis_labels(\"\", \"Percent (%)\")\n",
    "plt.title(\"Results of ML Methods\")\n",
    "plt.show()"
   ]
  },
  {
   "cell_type": "markdown",
   "metadata": {},
   "source": [
    "#### Relatively low R Squared values paired with high P values designates an overall result to fail to reject the null hypothesis of equal mean between our predicted and actual values, and suggests little to no correlation between deforestation in the Amazon and bird observations posted on Wikiaves.com."
   ]
  },
  {
   "cell_type": "markdown",
   "metadata": {},
   "source": [
    "### Conclusion\n",
    "\n"
   ]
  },
  {
   "cell_type": "markdown",
   "metadata": {},
   "source": [
    "The final step in the data science lifecycle is drawing conclusions from the analysis on our original data. As our results displayed, the machine learning analysis resulted in low R squared values and our sample T tests resulted in high P values, suggesting no meaningful correlation between Brazilian Amazon Rainforest deforestation and Wikiaves birdwatching observations. This conclusion rejects my initial hypothesis.\n",
    "\n",
    "#### Insights\n",
    "\n",
    "While visualizing the data, I noticed that over time, Wikiaves bird observations have generally increased. Despite this, from 2014 to 2018, the number of unique posters actually decreased. My suspicions are that the number of observations being posted on Wikiaves could be more impacted by dedicated users who tend to post often as a part of the birdwatching community, despite any deforestation activity happening in the Amazon Rainforest. If anything, it could be the case that as these bird species become more endangered, dedicated birdwatchers have even more reason to search for them while they have the chance. \n",
    "\n",
    "Plotting the average birds observed for each unique author against bird observations per year could give us some indication if these ideas are related."
   ]
  },
  {
   "cell_type": "code",
   "execution_count": 24,
   "metadata": {},
   "outputs": [
    {
     "data": {
      "image/png": "[encoded data removed]",
      "text/plain": [
       "<Figure size 432x288 with 1 Axes>"
      ]
     },
     "metadata": {
      "needs_background": "light"
     },
     "output_type": "display_data"
    }
   ],
   "source": [
    "# Average Birds Observed per Unique Author vs Bird Observations\n",
    "sns.regplot(data = merged_table, x = 'avg birds observed per unique author', y = 'bird observations')\n",
    "plt.title('Average Birds Observed per Unique Author vs. Bird Observations')\n",
    "plt.xlabel('Average Birds Observed per Unique Author')\n",
    "plt.ylabel('Bird Observations')\n",
    "plt.show()"
   ]
  },
  {
   "cell_type": "markdown",
   "metadata": {},
   "source": [
    "The positive slope on this regression line suggests there is a fairly strong linear relationship between the average amounts of posts per user and the number of total bird observations, despite the overall user base decreasing in numbers over time. As the average user has posted more frequently on Wikiaves.com, the total observations have increased.\n",
    "\n",
    "#### Learn more about Data Science\n",
    "\n",
    "Thank you for reading this tutorial and I hope it was an informative introduction to the Data Science lifecycle. If you would like to learn more, please read here: https://towardsdatascience.com/intro-to-data-science-531079c38b22"
   ]
  }
 ],
 "metadata": {
  "kernelspec": {
   "display_name": "Python 3",
   "language": "python",
   "name": "python3"
  },
  "language_info": {
   "codemirror_mode": {
    "name": "ipython",
    "version": 3
   },
   "file_extension": ".py",
   "mimetype": "text/x-python",
   "name": "python",
   "nbconvert_exporter": "python",
   "pygments_lexer": "ipython3",
   "version": "3.8.5"
  }
 },
 "nbformat": 4,
 "nbformat_minor": 4
}
